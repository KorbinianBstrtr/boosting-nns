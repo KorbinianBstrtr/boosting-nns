{
  "nbformat": 4,
  "nbformat_minor": 0,
  "metadata": {
    "accelerator": "GPU",
    "colab": {
      "name": "Boosting-pytorch-mnist.ipynb",
      "provenance": [],
      "collapsed_sections": []
    },
    "kernelspec": {
      "display_name": "Python 3",
      "language": "python",
      "name": "python3"
    },
    "language_info": {
      "codemirror_mode": {
        "name": "ipython",
        "version": 3
      },
      "file_extension": ".py",
      "mimetype": "text/x-python",
      "name": "python",
      "nbconvert_exporter": "python",
      "pygments_lexer": "ipython3",
      "version": "3.6.5"
    },
    "widgets": {
      "application/vnd.jupyter.widget-state+json": {
        "f941976055ab4d39a89c0d520193670d": {
          "model_module": "@jupyter-widgets/controls",
          "model_name": "HBoxModel",
          "state": {
            "_view_name": "HBoxView",
            "_dom_classes": [],
            "_model_name": "HBoxModel",
            "_view_module": "@jupyter-widgets/controls",
            "_model_module_version": "1.5.0",
            "_view_count": null,
            "_view_module_version": "1.5.0",
            "box_style": "",
            "layout": "IPY_MODEL_13bdcaf6979f422c86f580548181661e",
            "_model_module": "@jupyter-widgets/controls",
            "children": [
              "IPY_MODEL_19acec20307d4dc49078be671e9ac16a",
              "IPY_MODEL_86d0ffa70b0e4004abc4b5d1596249d0"
            ]
          }
        },
        "13bdcaf6979f422c86f580548181661e": {
          "model_module": "@jupyter-widgets/base",
          "model_name": "LayoutModel",
          "state": {
            "_view_name": "LayoutView",
            "grid_template_rows": null,
            "right": null,
            "justify_content": null,
            "_view_module": "@jupyter-widgets/base",
            "overflow": null,
            "_model_module_version": "1.2.0",
            "_view_count": null,
            "flex_flow": null,
            "width": null,
            "min_width": null,
            "border": null,
            "align_items": null,
            "bottom": null,
            "_model_module": "@jupyter-widgets/base",
            "top": null,
            "grid_column": null,
            "overflow_y": null,
            "overflow_x": null,
            "grid_auto_flow": null,
            "grid_area": null,
            "grid_template_columns": null,
            "flex": null,
            "_model_name": "LayoutModel",
            "justify_items": null,
            "grid_row": null,
            "max_height": null,
            "align_content": null,
            "visibility": null,
            "align_self": null,
            "height": null,
            "min_height": null,
            "padding": null,
            "grid_auto_rows": null,
            "grid_gap": null,
            "max_width": null,
            "order": null,
            "_view_module_version": "1.2.0",
            "grid_template_areas": null,
            "object_position": null,
            "object_fit": null,
            "grid_auto_columns": null,
            "margin": null,
            "display": null,
            "left": null
          }
        },
        "19acec20307d4dc49078be671e9ac16a": {
          "model_module": "@jupyter-widgets/controls",
          "model_name": "FloatProgressModel",
          "state": {
            "_view_name": "ProgressView",
            "style": "IPY_MODEL_27ff3d1e61fb451c846f14a65bbe4319",
            "_dom_classes": [],
            "description": "",
            "_model_name": "FloatProgressModel",
            "bar_style": "success",
            "max": 1,
            "_view_module": "@jupyter-widgets/controls",
            "_model_module_version": "1.5.0",
            "value": 1,
            "_view_count": null,
            "_view_module_version": "1.5.0",
            "orientation": "horizontal",
            "min": 0,
            "description_tooltip": null,
            "_model_module": "@jupyter-widgets/controls",
            "layout": "IPY_MODEL_c765844340d4421d953b95e0604fec8f"
          }
        },
        "86d0ffa70b0e4004abc4b5d1596249d0": {
          "model_module": "@jupyter-widgets/controls",
          "model_name": "HTMLModel",
          "state": {
            "_view_name": "HTMLView",
            "style": "IPY_MODEL_717f3d233d3c4a9fa314658f2fcf420c",
            "_dom_classes": [],
            "description": "",
            "_model_name": "HTMLModel",
            "placeholder": "​",
            "_view_module": "@jupyter-widgets/controls",
            "_model_module_version": "1.5.0",
            "value": " 9920512/? [00:02&lt;00:00, 3341144.38it/s]",
            "_view_count": null,
            "_view_module_version": "1.5.0",
            "description_tooltip": null,
            "_model_module": "@jupyter-widgets/controls",
            "layout": "IPY_MODEL_6d3c97d7cf0449cd96ff47cbb23d8eb5"
          }
        },
        "27ff3d1e61fb451c846f14a65bbe4319": {
          "model_module": "@jupyter-widgets/controls",
          "model_name": "ProgressStyleModel",
          "state": {
            "_view_name": "StyleView",
            "_model_name": "ProgressStyleModel",
            "description_width": "initial",
            "_view_module": "@jupyter-widgets/base",
            "_model_module_version": "1.5.0",
            "_view_count": null,
            "_view_module_version": "1.2.0",
            "bar_color": null,
            "_model_module": "@jupyter-widgets/controls"
          }
        },
        "c765844340d4421d953b95e0604fec8f": {
          "model_module": "@jupyter-widgets/base",
          "model_name": "LayoutModel",
          "state": {
            "_view_name": "LayoutView",
            "grid_template_rows": null,
            "right": null,
            "justify_content": null,
            "_view_module": "@jupyter-widgets/base",
            "overflow": null,
            "_model_module_version": "1.2.0",
            "_view_count": null,
            "flex_flow": null,
            "width": null,
            "min_width": null,
            "border": null,
            "align_items": null,
            "bottom": null,
            "_model_module": "@jupyter-widgets/base",
            "top": null,
            "grid_column": null,
            "overflow_y": null,
            "overflow_x": null,
            "grid_auto_flow": null,
            "grid_area": null,
            "grid_template_columns": null,
            "flex": null,
            "_model_name": "LayoutModel",
            "justify_items": null,
            "grid_row": null,
            "max_height": null,
            "align_content": null,
            "visibility": null,
            "align_self": null,
            "height": null,
            "min_height": null,
            "padding": null,
            "grid_auto_rows": null,
            "grid_gap": null,
            "max_width": null,
            "order": null,
            "_view_module_version": "1.2.0",
            "grid_template_areas": null,
            "object_position": null,
            "object_fit": null,
            "grid_auto_columns": null,
            "margin": null,
            "display": null,
            "left": null
          }
        },
        "717f3d233d3c4a9fa314658f2fcf420c": {
          "model_module": "@jupyter-widgets/controls",
          "model_name": "DescriptionStyleModel",
          "state": {
            "_view_name": "StyleView",
            "_model_name": "DescriptionStyleModel",
            "description_width": "",
            "_view_module": "@jupyter-widgets/base",
            "_model_module_version": "1.5.0",
            "_view_count": null,
            "_view_module_version": "1.2.0",
            "_model_module": "@jupyter-widgets/controls"
          }
        },
        "6d3c97d7cf0449cd96ff47cbb23d8eb5": {
          "model_module": "@jupyter-widgets/base",
          "model_name": "LayoutModel",
          "state": {
            "_view_name": "LayoutView",
            "grid_template_rows": null,
            "right": null,
            "justify_content": null,
            "_view_module": "@jupyter-widgets/base",
            "overflow": null,
            "_model_module_version": "1.2.0",
            "_view_count": null,
            "flex_flow": null,
            "width": null,
            "min_width": null,
            "border": null,
            "align_items": null,
            "bottom": null,
            "_model_module": "@jupyter-widgets/base",
            "top": null,
            "grid_column": null,
            "overflow_y": null,
            "overflow_x": null,
            "grid_auto_flow": null,
            "grid_area": null,
            "grid_template_columns": null,
            "flex": null,
            "_model_name": "LayoutModel",
            "justify_items": null,
            "grid_row": null,
            "max_height": null,
            "align_content": null,
            "visibility": null,
            "align_self": null,
            "height": null,
            "min_height": null,
            "padding": null,
            "grid_auto_rows": null,
            "grid_gap": null,
            "max_width": null,
            "order": null,
            "_view_module_version": "1.2.0",
            "grid_template_areas": null,
            "object_position": null,
            "object_fit": null,
            "grid_auto_columns": null,
            "margin": null,
            "display": null,
            "left": null
          }
        },
        "3ae1cd3c20a1474fb186531b8c1f0b12": {
          "model_module": "@jupyter-widgets/controls",
          "model_name": "HBoxModel",
          "state": {
            "_view_name": "HBoxView",
            "_dom_classes": [],
            "_model_name": "HBoxModel",
            "_view_module": "@jupyter-widgets/controls",
            "_model_module_version": "1.5.0",
            "_view_count": null,
            "_view_module_version": "1.5.0",
            "box_style": "",
            "layout": "IPY_MODEL_3070437305e64fb0b3cf5ace5a9df76e",
            "_model_module": "@jupyter-widgets/controls",
            "children": [
              "IPY_MODEL_2444380dd2794973b0b3290475093bae",
              "IPY_MODEL_3fd12f4216954c4599c886d65aca1d36"
            ]
          }
        },
        "3070437305e64fb0b3cf5ace5a9df76e": {
          "model_module": "@jupyter-widgets/base",
          "model_name": "LayoutModel",
          "state": {
            "_view_name": "LayoutView",
            "grid_template_rows": null,
            "right": null,
            "justify_content": null,
            "_view_module": "@jupyter-widgets/base",
            "overflow": null,
            "_model_module_version": "1.2.0",
            "_view_count": null,
            "flex_flow": null,
            "width": null,
            "min_width": null,
            "border": null,
            "align_items": null,
            "bottom": null,
            "_model_module": "@jupyter-widgets/base",
            "top": null,
            "grid_column": null,
            "overflow_y": null,
            "overflow_x": null,
            "grid_auto_flow": null,
            "grid_area": null,
            "grid_template_columns": null,
            "flex": null,
            "_model_name": "LayoutModel",
            "justify_items": null,
            "grid_row": null,
            "max_height": null,
            "align_content": null,
            "visibility": null,
            "align_self": null,
            "height": null,
            "min_height": null,
            "padding": null,
            "grid_auto_rows": null,
            "grid_gap": null,
            "max_width": null,
            "order": null,
            "_view_module_version": "1.2.0",
            "grid_template_areas": null,
            "object_position": null,
            "object_fit": null,
            "grid_auto_columns": null,
            "margin": null,
            "display": null,
            "left": null
          }
        },
        "2444380dd2794973b0b3290475093bae": {
          "model_module": "@jupyter-widgets/controls",
          "model_name": "FloatProgressModel",
          "state": {
            "_view_name": "ProgressView",
            "style": "IPY_MODEL_e754ef51ea5a44869ddc0e030e2492bf",
            "_dom_classes": [],
            "description": "",
            "_model_name": "FloatProgressModel",
            "bar_style": "success",
            "max": 1,
            "_view_module": "@jupyter-widgets/controls",
            "_model_module_version": "1.5.0",
            "value": 1,
            "_view_count": null,
            "_view_module_version": "1.5.0",
            "orientation": "horizontal",
            "min": 0,
            "description_tooltip": null,
            "_model_module": "@jupyter-widgets/controls",
            "layout": "IPY_MODEL_44bf1fda2af049f099d97ed20992d773"
          }
        },
        "3fd12f4216954c4599c886d65aca1d36": {
          "model_module": "@jupyter-widgets/controls",
          "model_name": "HTMLModel",
          "state": {
            "_view_name": "HTMLView",
            "style": "IPY_MODEL_2efcaee995184261bd09b10372006f55",
            "_dom_classes": [],
            "description": "",
            "_model_name": "HTMLModel",
            "placeholder": "​",
            "_view_module": "@jupyter-widgets/controls",
            "_model_module_version": "1.5.0",
            "value": " 32768/? [00:00&lt;00:00, 118672.24it/s]",
            "_view_count": null,
            "_view_module_version": "1.5.0",
            "description_tooltip": null,
            "_model_module": "@jupyter-widgets/controls",
            "layout": "IPY_MODEL_c64481b06e544910a25d8522833860d2"
          }
        },
        "e754ef51ea5a44869ddc0e030e2492bf": {
          "model_module": "@jupyter-widgets/controls",
          "model_name": "ProgressStyleModel",
          "state": {
            "_view_name": "StyleView",
            "_model_name": "ProgressStyleModel",
            "description_width": "initial",
            "_view_module": "@jupyter-widgets/base",
            "_model_module_version": "1.5.0",
            "_view_count": null,
            "_view_module_version": "1.2.0",
            "bar_color": null,
            "_model_module": "@jupyter-widgets/controls"
          }
        },
        "44bf1fda2af049f099d97ed20992d773": {
          "model_module": "@jupyter-widgets/base",
          "model_name": "LayoutModel",
          "state": {
            "_view_name": "LayoutView",
            "grid_template_rows": null,
            "right": null,
            "justify_content": null,
            "_view_module": "@jupyter-widgets/base",
            "overflow": null,
            "_model_module_version": "1.2.0",
            "_view_count": null,
            "flex_flow": null,
            "width": null,
            "min_width": null,
            "border": null,
            "align_items": null,
            "bottom": null,
            "_model_module": "@jupyter-widgets/base",
            "top": null,
            "grid_column": null,
            "overflow_y": null,
            "overflow_x": null,
            "grid_auto_flow": null,
            "grid_area": null,
            "grid_template_columns": null,
            "flex": null,
            "_model_name": "LayoutModel",
            "justify_items": null,
            "grid_row": null,
            "max_height": null,
            "align_content": null,
            "visibility": null,
            "align_self": null,
            "height": null,
            "min_height": null,
            "padding": null,
            "grid_auto_rows": null,
            "grid_gap": null,
            "max_width": null,
            "order": null,
            "_view_module_version": "1.2.0",
            "grid_template_areas": null,
            "object_position": null,
            "object_fit": null,
            "grid_auto_columns": null,
            "margin": null,
            "display": null,
            "left": null
          }
        },
        "2efcaee995184261bd09b10372006f55": {
          "model_module": "@jupyter-widgets/controls",
          "model_name": "DescriptionStyleModel",
          "state": {
            "_view_name": "StyleView",
            "_model_name": "DescriptionStyleModel",
            "description_width": "",
            "_view_module": "@jupyter-widgets/base",
            "_model_module_version": "1.5.0",
            "_view_count": null,
            "_view_module_version": "1.2.0",
            "_model_module": "@jupyter-widgets/controls"
          }
        },
        "c64481b06e544910a25d8522833860d2": {
          "model_module": "@jupyter-widgets/base",
          "model_name": "LayoutModel",
          "state": {
            "_view_name": "LayoutView",
            "grid_template_rows": null,
            "right": null,
            "justify_content": null,
            "_view_module": "@jupyter-widgets/base",
            "overflow": null,
            "_model_module_version": "1.2.0",
            "_view_count": null,
            "flex_flow": null,
            "width": null,
            "min_width": null,
            "border": null,
            "align_items": null,
            "bottom": null,
            "_model_module": "@jupyter-widgets/base",
            "top": null,
            "grid_column": null,
            "overflow_y": null,
            "overflow_x": null,
            "grid_auto_flow": null,
            "grid_area": null,
            "grid_template_columns": null,
            "flex": null,
            "_model_name": "LayoutModel",
            "justify_items": null,
            "grid_row": null,
            "max_height": null,
            "align_content": null,
            "visibility": null,
            "align_self": null,
            "height": null,
            "min_height": null,
            "padding": null,
            "grid_auto_rows": null,
            "grid_gap": null,
            "max_width": null,
            "order": null,
            "_view_module_version": "1.2.0",
            "grid_template_areas": null,
            "object_position": null,
            "object_fit": null,
            "grid_auto_columns": null,
            "margin": null,
            "display": null,
            "left": null
          }
        },
        "7e5f7a2d24b5467ab9ce7d72ccedfcc0": {
          "model_module": "@jupyter-widgets/controls",
          "model_name": "HBoxModel",
          "state": {
            "_view_name": "HBoxView",
            "_dom_classes": [],
            "_model_name": "HBoxModel",
            "_view_module": "@jupyter-widgets/controls",
            "_model_module_version": "1.5.0",
            "_view_count": null,
            "_view_module_version": "1.5.0",
            "box_style": "",
            "layout": "IPY_MODEL_476f1e4b0d35488eafd6b035de15f64b",
            "_model_module": "@jupyter-widgets/controls",
            "children": [
              "IPY_MODEL_d01e1fe60335445fa02ab7f7a5863c91",
              "IPY_MODEL_ca5cd8c51cd145bdba6524a94601a4d0"
            ]
          }
        },
        "476f1e4b0d35488eafd6b035de15f64b": {
          "model_module": "@jupyter-widgets/base",
          "model_name": "LayoutModel",
          "state": {
            "_view_name": "LayoutView",
            "grid_template_rows": null,
            "right": null,
            "justify_content": null,
            "_view_module": "@jupyter-widgets/base",
            "overflow": null,
            "_model_module_version": "1.2.0",
            "_view_count": null,
            "flex_flow": null,
            "width": null,
            "min_width": null,
            "border": null,
            "align_items": null,
            "bottom": null,
            "_model_module": "@jupyter-widgets/base",
            "top": null,
            "grid_column": null,
            "overflow_y": null,
            "overflow_x": null,
            "grid_auto_flow": null,
            "grid_area": null,
            "grid_template_columns": null,
            "flex": null,
            "_model_name": "LayoutModel",
            "justify_items": null,
            "grid_row": null,
            "max_height": null,
            "align_content": null,
            "visibility": null,
            "align_self": null,
            "height": null,
            "min_height": null,
            "padding": null,
            "grid_auto_rows": null,
            "grid_gap": null,
            "max_width": null,
            "order": null,
            "_view_module_version": "1.2.0",
            "grid_template_areas": null,
            "object_position": null,
            "object_fit": null,
            "grid_auto_columns": null,
            "margin": null,
            "display": null,
            "left": null
          }
        },
        "d01e1fe60335445fa02ab7f7a5863c91": {
          "model_module": "@jupyter-widgets/controls",
          "model_name": "FloatProgressModel",
          "state": {
            "_view_name": "ProgressView",
            "style": "IPY_MODEL_dc1e4f32b45343ca8dc84546f0695acd",
            "_dom_classes": [],
            "description": "",
            "_model_name": "FloatProgressModel",
            "bar_style": "success",
            "max": 1,
            "_view_module": "@jupyter-widgets/controls",
            "_model_module_version": "1.5.0",
            "value": 1,
            "_view_count": null,
            "_view_module_version": "1.5.0",
            "orientation": "horizontal",
            "min": 0,
            "description_tooltip": null,
            "_model_module": "@jupyter-widgets/controls",
            "layout": "IPY_MODEL_4113ecbb3ab54553ac8a104b1be65377"
          }
        },
        "ca5cd8c51cd145bdba6524a94601a4d0": {
          "model_module": "@jupyter-widgets/controls",
          "model_name": "HTMLModel",
          "state": {
            "_view_name": "HTMLView",
            "style": "IPY_MODEL_8aefae26ac964b279c74a870e0ead0b1",
            "_dom_classes": [],
            "description": "",
            "_model_name": "HTMLModel",
            "placeholder": "​",
            "_view_module": "@jupyter-widgets/controls",
            "_model_module_version": "1.5.0",
            "value": " 1654784/? [00:01&lt;00:00, 1250486.17it/s]",
            "_view_count": null,
            "_view_module_version": "1.5.0",
            "description_tooltip": null,
            "_model_module": "@jupyter-widgets/controls",
            "layout": "IPY_MODEL_63d386c9dcda4d71b7464cfc60039b74"
          }
        },
        "dc1e4f32b45343ca8dc84546f0695acd": {
          "model_module": "@jupyter-widgets/controls",
          "model_name": "ProgressStyleModel",
          "state": {
            "_view_name": "StyleView",
            "_model_name": "ProgressStyleModel",
            "description_width": "initial",
            "_view_module": "@jupyter-widgets/base",
            "_model_module_version": "1.5.0",
            "_view_count": null,
            "_view_module_version": "1.2.0",
            "bar_color": null,
            "_model_module": "@jupyter-widgets/controls"
          }
        },
        "4113ecbb3ab54553ac8a104b1be65377": {
          "model_module": "@jupyter-widgets/base",
          "model_name": "LayoutModel",
          "state": {
            "_view_name": "LayoutView",
            "grid_template_rows": null,
            "right": null,
            "justify_content": null,
            "_view_module": "@jupyter-widgets/base",
            "overflow": null,
            "_model_module_version": "1.2.0",
            "_view_count": null,
            "flex_flow": null,
            "width": null,
            "min_width": null,
            "border": null,
            "align_items": null,
            "bottom": null,
            "_model_module": "@jupyter-widgets/base",
            "top": null,
            "grid_column": null,
            "overflow_y": null,
            "overflow_x": null,
            "grid_auto_flow": null,
            "grid_area": null,
            "grid_template_columns": null,
            "flex": null,
            "_model_name": "LayoutModel",
            "justify_items": null,
            "grid_row": null,
            "max_height": null,
            "align_content": null,
            "visibility": null,
            "align_self": null,
            "height": null,
            "min_height": null,
            "padding": null,
            "grid_auto_rows": null,
            "grid_gap": null,
            "max_width": null,
            "order": null,
            "_view_module_version": "1.2.0",
            "grid_template_areas": null,
            "object_position": null,
            "object_fit": null,
            "grid_auto_columns": null,
            "margin": null,
            "display": null,
            "left": null
          }
        },
        "8aefae26ac964b279c74a870e0ead0b1": {
          "model_module": "@jupyter-widgets/controls",
          "model_name": "DescriptionStyleModel",
          "state": {
            "_view_name": "StyleView",
            "_model_name": "DescriptionStyleModel",
            "description_width": "",
            "_view_module": "@jupyter-widgets/base",
            "_model_module_version": "1.5.0",
            "_view_count": null,
            "_view_module_version": "1.2.0",
            "_model_module": "@jupyter-widgets/controls"
          }
        },
        "63d386c9dcda4d71b7464cfc60039b74": {
          "model_module": "@jupyter-widgets/base",
          "model_name": "LayoutModel",
          "state": {
            "_view_name": "LayoutView",
            "grid_template_rows": null,
            "right": null,
            "justify_content": null,
            "_view_module": "@jupyter-widgets/base",
            "overflow": null,
            "_model_module_version": "1.2.0",
            "_view_count": null,
            "flex_flow": null,
            "width": null,
            "min_width": null,
            "border": null,
            "align_items": null,
            "bottom": null,
            "_model_module": "@jupyter-widgets/base",
            "top": null,
            "grid_column": null,
            "overflow_y": null,
            "overflow_x": null,
            "grid_auto_flow": null,
            "grid_area": null,
            "grid_template_columns": null,
            "flex": null,
            "_model_name": "LayoutModel",
            "justify_items": null,
            "grid_row": null,
            "max_height": null,
            "align_content": null,
            "visibility": null,
            "align_self": null,
            "height": null,
            "min_height": null,
            "padding": null,
            "grid_auto_rows": null,
            "grid_gap": null,
            "max_width": null,
            "order": null,
            "_view_module_version": "1.2.0",
            "grid_template_areas": null,
            "object_position": null,
            "object_fit": null,
            "grid_auto_columns": null,
            "margin": null,
            "display": null,
            "left": null
          }
        },
        "7fbab4a595ae4299909185dda6568151": {
          "model_module": "@jupyter-widgets/controls",
          "model_name": "HBoxModel",
          "state": {
            "_view_name": "HBoxView",
            "_dom_classes": [],
            "_model_name": "HBoxModel",
            "_view_module": "@jupyter-widgets/controls",
            "_model_module_version": "1.5.0",
            "_view_count": null,
            "_view_module_version": "1.5.0",
            "box_style": "",
            "layout": "IPY_MODEL_6b48ef2f84144842948c6aba17449bf8",
            "_model_module": "@jupyter-widgets/controls",
            "children": [
              "IPY_MODEL_581cfce81539469ea1f24fbdeae5b112",
              "IPY_MODEL_c96430fe7ba9455cb774ab7b27abc2c7"
            ]
          }
        },
        "6b48ef2f84144842948c6aba17449bf8": {
          "model_module": "@jupyter-widgets/base",
          "model_name": "LayoutModel",
          "state": {
            "_view_name": "LayoutView",
            "grid_template_rows": null,
            "right": null,
            "justify_content": null,
            "_view_module": "@jupyter-widgets/base",
            "overflow": null,
            "_model_module_version": "1.2.0",
            "_view_count": null,
            "flex_flow": null,
            "width": null,
            "min_width": null,
            "border": null,
            "align_items": null,
            "bottom": null,
            "_model_module": "@jupyter-widgets/base",
            "top": null,
            "grid_column": null,
            "overflow_y": null,
            "overflow_x": null,
            "grid_auto_flow": null,
            "grid_area": null,
            "grid_template_columns": null,
            "flex": null,
            "_model_name": "LayoutModel",
            "justify_items": null,
            "grid_row": null,
            "max_height": null,
            "align_content": null,
            "visibility": null,
            "align_self": null,
            "height": null,
            "min_height": null,
            "padding": null,
            "grid_auto_rows": null,
            "grid_gap": null,
            "max_width": null,
            "order": null,
            "_view_module_version": "1.2.0",
            "grid_template_areas": null,
            "object_position": null,
            "object_fit": null,
            "grid_auto_columns": null,
            "margin": null,
            "display": null,
            "left": null
          }
        },
        "581cfce81539469ea1f24fbdeae5b112": {
          "model_module": "@jupyter-widgets/controls",
          "model_name": "FloatProgressModel",
          "state": {
            "_view_name": "ProgressView",
            "style": "IPY_MODEL_899a570cd9d44071822bf63be6c95cb1",
            "_dom_classes": [],
            "description": "",
            "_model_name": "FloatProgressModel",
            "bar_style": "success",
            "max": 1,
            "_view_module": "@jupyter-widgets/controls",
            "_model_module_version": "1.5.0",
            "value": 1,
            "_view_count": null,
            "_view_module_version": "1.5.0",
            "orientation": "horizontal",
            "min": 0,
            "description_tooltip": null,
            "_model_module": "@jupyter-widgets/controls",
            "layout": "IPY_MODEL_a3d9101afb534084be24822ef682026b"
          }
        },
        "c96430fe7ba9455cb774ab7b27abc2c7": {
          "model_module": "@jupyter-widgets/controls",
          "model_name": "HTMLModel",
          "state": {
            "_view_name": "HTMLView",
            "style": "IPY_MODEL_a6852713c5704bf0a8c536e48166db39",
            "_dom_classes": [],
            "description": "",
            "_model_name": "HTMLModel",
            "placeholder": "​",
            "_view_module": "@jupyter-widgets/controls",
            "_model_module_version": "1.5.0",
            "value": " 8192/? [00:00&lt;00:00, 23217.40it/s]",
            "_view_count": null,
            "_view_module_version": "1.5.0",
            "description_tooltip": null,
            "_model_module": "@jupyter-widgets/controls",
            "layout": "IPY_MODEL_5a62c11b1c2c472f8e4b233d509eaee9"
          }
        },
        "899a570cd9d44071822bf63be6c95cb1": {
          "model_module": "@jupyter-widgets/controls",
          "model_name": "ProgressStyleModel",
          "state": {
            "_view_name": "StyleView",
            "_model_name": "ProgressStyleModel",
            "description_width": "initial",
            "_view_module": "@jupyter-widgets/base",
            "_model_module_version": "1.5.0",
            "_view_count": null,
            "_view_module_version": "1.2.0",
            "bar_color": null,
            "_model_module": "@jupyter-widgets/controls"
          }
        },
        "a3d9101afb534084be24822ef682026b": {
          "model_module": "@jupyter-widgets/base",
          "model_name": "LayoutModel",
          "state": {
            "_view_name": "LayoutView",
            "grid_template_rows": null,
            "right": null,
            "justify_content": null,
            "_view_module": "@jupyter-widgets/base",
            "overflow": null,
            "_model_module_version": "1.2.0",
            "_view_count": null,
            "flex_flow": null,
            "width": null,
            "min_width": null,
            "border": null,
            "align_items": null,
            "bottom": null,
            "_model_module": "@jupyter-widgets/base",
            "top": null,
            "grid_column": null,
            "overflow_y": null,
            "overflow_x": null,
            "grid_auto_flow": null,
            "grid_area": null,
            "grid_template_columns": null,
            "flex": null,
            "_model_name": "LayoutModel",
            "justify_items": null,
            "grid_row": null,
            "max_height": null,
            "align_content": null,
            "visibility": null,
            "align_self": null,
            "height": null,
            "min_height": null,
            "padding": null,
            "grid_auto_rows": null,
            "grid_gap": null,
            "max_width": null,
            "order": null,
            "_view_module_version": "1.2.0",
            "grid_template_areas": null,
            "object_position": null,
            "object_fit": null,
            "grid_auto_columns": null,
            "margin": null,
            "display": null,
            "left": null
          }
        },
        "a6852713c5704bf0a8c536e48166db39": {
          "model_module": "@jupyter-widgets/controls",
          "model_name": "DescriptionStyleModel",
          "state": {
            "_view_name": "StyleView",
            "_model_name": "DescriptionStyleModel",
            "description_width": "",
            "_view_module": "@jupyter-widgets/base",
            "_model_module_version": "1.5.0",
            "_view_count": null,
            "_view_module_version": "1.2.0",
            "_model_module": "@jupyter-widgets/controls"
          }
        },
        "5a62c11b1c2c472f8e4b233d509eaee9": {
          "model_module": "@jupyter-widgets/base",
          "model_name": "LayoutModel",
          "state": {
            "_view_name": "LayoutView",
            "grid_template_rows": null,
            "right": null,
            "justify_content": null,
            "_view_module": "@jupyter-widgets/base",
            "overflow": null,
            "_model_module_version": "1.2.0",
            "_view_count": null,
            "flex_flow": null,
            "width": null,
            "min_width": null,
            "border": null,
            "align_items": null,
            "bottom": null,
            "_model_module": "@jupyter-widgets/base",
            "top": null,
            "grid_column": null,
            "overflow_y": null,
            "overflow_x": null,
            "grid_auto_flow": null,
            "grid_area": null,
            "grid_template_columns": null,
            "flex": null,
            "_model_name": "LayoutModel",
            "justify_items": null,
            "grid_row": null,
            "max_height": null,
            "align_content": null,
            "visibility": null,
            "align_self": null,
            "height": null,
            "min_height": null,
            "padding": null,
            "grid_auto_rows": null,
            "grid_gap": null,
            "max_width": null,
            "order": null,
            "_view_module_version": "1.2.0",
            "grid_template_areas": null,
            "object_position": null,
            "object_fit": null,
            "grid_auto_columns": null,
            "margin": null,
            "display": null,
            "left": null
          }
        }
      }
    }
  },
  "cells": [
    {
      "cell_type": "code",
      "metadata": {
        "id": "x9YhXSoEIKYI",
        "outputId": "f8780dab-e0d3-46ab-978e-7cf547d24ae1",
        "colab": {
          "base_uri": "https://localhost:8080/"
        }
      },
      "source": [
        "!pip install torch torchvision"
      ],
      "execution_count": 2,
      "outputs": [
        {
          "output_type": "stream",
          "text": [
            "Requirement already satisfied: torch in /usr/local/lib/python3.6/dist-packages (1.7.0+cu101)\n",
            "Requirement already satisfied: torchvision in /usr/local/lib/python3.6/dist-packages (0.8.1+cu101)\n",
            "Requirement already satisfied: future in /usr/local/lib/python3.6/dist-packages (from torch) (0.16.0)\n",
            "Requirement already satisfied: typing-extensions in /usr/local/lib/python3.6/dist-packages (from torch) (3.7.4.3)\n",
            "Requirement already satisfied: numpy in /usr/local/lib/python3.6/dist-packages (from torch) (1.18.5)\n",
            "Requirement already satisfied: dataclasses in /usr/local/lib/python3.6/dist-packages (from torch) (0.7)\n",
            "Requirement already satisfied: pillow>=4.1.1 in /usr/local/lib/python3.6/dist-packages (from torchvision) (7.0.0)\n"
          ],
          "name": "stdout"
        }
      ]
    },
    {
      "cell_type": "markdown",
      "metadata": {
        "id": "BaqHxH6LIKYM"
      },
      "source": [
        "### Pytorch Advantages vs Tensorflow\n",
        "- Pytorch Enables dynamic computational graphs (which change be changed) while Tensorflow is static. \n",
        "- Tensorflow enables easier deployment. "
      ]
    },
    {
      "cell_type": "code",
      "metadata": {
        "id": "MfdQ1u83IKYN"
      },
      "source": [
        "import argparse\n",
        "import torch\n",
        "import torch.nn as nn\n",
        "import torch.nn.functional as F\n",
        "import torch.optim as optim\n",
        "from torchvision import datasets, transforms\n",
        "from torch.autograd import Variable\n",
        "from torch.utils.data import Dataset, DataLoader\n",
        "import numpy as np\n",
        "import matplotlib.pyplot as plt\n",
        "import copy\n"
      ],
      "execution_count": 3,
      "outputs": []
    },
    {
      "cell_type": "code",
      "metadata": {
        "id": "S3zjC0RsIKYP"
      },
      "source": [
        "args={}\n",
        "kwargs={}\n",
        "args['batch_size']=1000\n",
        "args['test_batch_size']=1000\n",
        "args['epochs']=50  #The number of Epochs is the number of times you go through the full dataset. \n",
        "args['lr']=0.01 #Learning rate is how fast it will decend. \n",
        "args['momentum']=0.5 #SGD momentum (default: 0.5) Momentum is a moving average of our gradients (helps to keep direction).\n",
        "\n",
        "args['seed']=1 #random seed\n",
        "args['log_interval']=100\n",
        "args['cuda']=False\n"
      ],
      "execution_count": 4,
      "outputs": []
    },
    {
      "cell_type": "code",
      "metadata": {
        "id": "jPSc45JmZOEO"
      },
      "source": [
        "class BoostingDataset(Dataset):\n",
        "    \"\"\"Transforms dataset to boosting dataset.\"\"\"\n",
        "\n",
        "    def __init__(self, dataset):\n",
        "        self.dataset = dataset\n",
        "        self.n_used = np.zeros(len(dataset))\n",
        "        self.loss = np.zeros(len(dataset))\n",
        "        self.apply_boosting = False\n",
        "        self.last_idx = []\n",
        "\n",
        "    def __len__(self):\n",
        "        return len(self.dataset)\n",
        "\n",
        "    def __getitem__(self, idx):\n",
        "        if self.apply_boosting:\n",
        "            # compute idx\n",
        "            # e.g. always take max loss idx\n",
        "            idx = np.argmax(self.loss)\n",
        "            self.loss[idx] = self.loss.min()\n",
        "        self.last_idx.append(idx)\n",
        "        self.n_used[idx] += 1\n",
        "        return idx, self.dataset[idx]\n",
        "\n",
        "    def loss_feedback(self, idx, loss):\n",
        "        self.loss[idx] = loss\n",
        "        self.last_idx = []\n"
      ],
      "execution_count": 5,
      "outputs": []
    },
    {
      "cell_type": "code",
      "metadata": {
        "id": "rqx1A7MFbi7c",
        "outputId": "a2cfda99-fc2b-491b-8381-cf9ecc207673",
        "colab": {
          "base_uri": "https://localhost:8080/",
          "height": 381,
          "referenced_widgets": [
            "f941976055ab4d39a89c0d520193670d",
            "13bdcaf6979f422c86f580548181661e",
            "19acec20307d4dc49078be671e9ac16a",
            "86d0ffa70b0e4004abc4b5d1596249d0",
            "27ff3d1e61fb451c846f14a65bbe4319",
            "c765844340d4421d953b95e0604fec8f",
            "717f3d233d3c4a9fa314658f2fcf420c",
            "6d3c97d7cf0449cd96ff47cbb23d8eb5",
            "3ae1cd3c20a1474fb186531b8c1f0b12",
            "3070437305e64fb0b3cf5ace5a9df76e",
            "2444380dd2794973b0b3290475093bae",
            "3fd12f4216954c4599c886d65aca1d36",
            "e754ef51ea5a44869ddc0e030e2492bf",
            "44bf1fda2af049f099d97ed20992d773",
            "2efcaee995184261bd09b10372006f55",
            "c64481b06e544910a25d8522833860d2",
            "7e5f7a2d24b5467ab9ce7d72ccedfcc0",
            "476f1e4b0d35488eafd6b035de15f64b",
            "d01e1fe60335445fa02ab7f7a5863c91",
            "ca5cd8c51cd145bdba6524a94601a4d0",
            "dc1e4f32b45343ca8dc84546f0695acd",
            "4113ecbb3ab54553ac8a104b1be65377",
            "8aefae26ac964b279c74a870e0ead0b1",
            "63d386c9dcda4d71b7464cfc60039b74",
            "7fbab4a595ae4299909185dda6568151",
            "6b48ef2f84144842948c6aba17449bf8",
            "581cfce81539469ea1f24fbdeae5b112",
            "c96430fe7ba9455cb774ab7b27abc2c7",
            "899a570cd9d44071822bf63be6c95cb1",
            "a3d9101afb534084be24822ef682026b",
            "a6852713c5704bf0a8c536e48166db39",
            "5a62c11b1c2c472f8e4b233d509eaee9"
          ]
        }
      },
      "source": [
        "def get_train_loader():\n",
        "    return torch.utils.data.DataLoader(\n",
        "      BoostingDataset(datasets.MNIST('../data', train=True, download=True,\n",
        "                    transform=transforms.Compose([\n",
        "                        transforms.ToTensor(),\n",
        "                        transforms.Normalize((0.1307,), (0.3081,))\n",
        "                    ]))),\n",
        "      batch_size=args['batch_size'], shuffle=True, **kwargs)\n",
        "\n",
        "train_loader_for_testing = torch.utils.data.DataLoader(\n",
        "    datasets.MNIST('../data', train=True, download=True,\n",
        "                   transform=transforms.Compose([\n",
        "                       transforms.ToTensor(),\n",
        "                       transforms.Normalize((0.1307,), (0.3081,))\n",
        "                   ])),\n",
        "    batch_size=args['batch_size'], shuffle=True, **kwargs)\n",
        "test_loader = torch.utils.data.DataLoader(\n",
        "    datasets.MNIST('../data', train=False, transform=transforms.Compose([\n",
        "                       transforms.ToTensor(),\n",
        "                       transforms.Normalize((0.1307,), (0.3081,))\n",
        "                   ])),\n",
        "    batch_size=args['test_batch_size'], shuffle=True, **kwargs)\n"
      ],
      "execution_count": 6,
      "outputs": [
        {
          "output_type": "stream",
          "text": [
            "Downloading http://yann.lecun.com/exdb/mnist/train-images-idx3-ubyte.gz to ../data/MNIST/raw/train-images-idx3-ubyte.gz\n"
          ],
          "name": "stdout"
        },
        {
          "output_type": "display_data",
          "data": {
            "application/vnd.jupyter.widget-view+json": {
              "model_id": "f941976055ab4d39a89c0d520193670d",
              "version_minor": 0,
              "version_major": 2
            },
            "text/plain": [
              "HBox(children=(FloatProgress(value=1.0, bar_style='info', max=1.0), HTML(value='')))"
            ]
          },
          "metadata": {
            "tags": []
          }
        },
        {
          "output_type": "stream",
          "text": [
            "Extracting ../data/MNIST/raw/train-images-idx3-ubyte.gz to ../data/MNIST/raw\n",
            "Downloading http://yann.lecun.com/exdb/mnist/train-labels-idx1-ubyte.gz to ../data/MNIST/raw/train-labels-idx1-ubyte.gz\n"
          ],
          "name": "stdout"
        },
        {
          "output_type": "display_data",
          "data": {
            "application/vnd.jupyter.widget-view+json": {
              "model_id": "3ae1cd3c20a1474fb186531b8c1f0b12",
              "version_minor": 0,
              "version_major": 2
            },
            "text/plain": [
              "HBox(children=(FloatProgress(value=1.0, bar_style='info', max=1.0), HTML(value='')))"
            ]
          },
          "metadata": {
            "tags": []
          }
        },
        {
          "output_type": "stream",
          "text": [
            "Extracting ../data/MNIST/raw/train-labels-idx1-ubyte.gz to ../data/MNIST/raw\n",
            "Downloading http://yann.lecun.com/exdb/mnist/t10k-images-idx3-ubyte.gz to ../data/MNIST/raw/t10k-images-idx3-ubyte.gz\n",
            "\n"
          ],
          "name": "stdout"
        },
        {
          "output_type": "display_data",
          "data": {
            "application/vnd.jupyter.widget-view+json": {
              "model_id": "7e5f7a2d24b5467ab9ce7d72ccedfcc0",
              "version_minor": 0,
              "version_major": 2
            },
            "text/plain": [
              "HBox(children=(FloatProgress(value=1.0, bar_style='info', max=1.0), HTML(value='')))"
            ]
          },
          "metadata": {
            "tags": []
          }
        },
        {
          "output_type": "stream",
          "text": [
            "Extracting ../data/MNIST/raw/t10k-images-idx3-ubyte.gz to ../data/MNIST/raw\n",
            "Downloading http://yann.lecun.com/exdb/mnist/t10k-labels-idx1-ubyte.gz to ../data/MNIST/raw/t10k-labels-idx1-ubyte.gz\n"
          ],
          "name": "stdout"
        },
        {
          "output_type": "display_data",
          "data": {
            "application/vnd.jupyter.widget-view+json": {
              "model_id": "7fbab4a595ae4299909185dda6568151",
              "version_minor": 0,
              "version_major": 2
            },
            "text/plain": [
              "HBox(children=(FloatProgress(value=1.0, bar_style='info', max=1.0), HTML(value='')))"
            ]
          },
          "metadata": {
            "tags": []
          }
        },
        {
          "output_type": "stream",
          "text": [
            "Extracting ../data/MNIST/raw/t10k-labels-idx1-ubyte.gz to ../data/MNIST/raw\n",
            "Processing...\n",
            "Done!\n"
          ],
          "name": "stdout"
        },
        {
          "output_type": "stream",
          "text": [
            "/usr/local/lib/python3.6/dist-packages/torchvision/datasets/mnist.py:480: UserWarning: The given NumPy array is not writeable, and PyTorch does not support non-writeable tensors. This means you can write to the underlying (supposedly non-writeable) NumPy array using the tensor. You may want to copy the array to protect its data or make it writeable before converting it to a tensor. This type of warning will be suppressed for the rest of this program. (Triggered internally at  /pytorch/torch/csrc/utils/tensor_numpy.cpp:141.)\n",
            "  return torch.from_numpy(parsed.astype(m[2], copy=False)).view(*s)\n"
          ],
          "name": "stderr"
        }
      ]
    },
    {
      "cell_type": "code",
      "metadata": {
        "id": "Vkj6NON9IKYX"
      },
      "source": [
        "class Net(nn.Module):\n",
        "    #This defines the structure of the NN.\n",
        "    def __init__(self):\n",
        "        super(Net, self).__init__()\n",
        "        self.conv1 = nn.Conv2d(1, 10, kernel_size=5)\n",
        "        self.conv2 = nn.Conv2d(10, 20, kernel_size=5)\n",
        "        self.conv2_drop = nn.Dropout2d()  #Dropout\n",
        "        self.fc1 = nn.Linear(320, 50)\n",
        "        self.fc2 = nn.Linear(50, 10)\n",
        "\n",
        "    def forward(self, x):\n",
        "        #Convolutional Layer/Pooling Layer/Activation\n",
        "        x = F.relu(F.max_pool2d(self.conv1(x), 2)) \n",
        "        #Convolutional Layer/Dropout/Pooling Layer/Activation\n",
        "        x = F.relu(F.max_pool2d(self.conv2_drop(self.conv2(x)), 2))\n",
        "        x = x.view(-1, 320)\n",
        "        #Fully Connected Layer/Activation\n",
        "        x = F.relu(self.fc1(x))\n",
        "        x = F.dropout(x, training=self.training)\n",
        "        #Fully Connected Layer/Activation\n",
        "        x = self.fc2(x)\n",
        "        #Softmax gets probabilities. \n",
        "        return F.log_softmax(x, dim=1)\n"
      ],
      "execution_count": 7,
      "outputs": []
    },
    {
      "cell_type": "code",
      "metadata": {
        "id": "KAwhGbqmIKYa",
        "outputId": "e9fef0b5-7cd7-4f97-fc6e-cd930de0689d",
        "colab": {
          "base_uri": "https://localhost:8080/"
        }
      },
      "source": [
        "def train(epoch, dataloader, boosting=False):\n",
        "    model.train()\n",
        "    dataloader.dataset.apply_boosting = boosting\n",
        "    total_loss = 0\n",
        "    total_n = 0\n",
        "    for batch_idx, (idx, (data, target)) in enumerate(dataloader):\n",
        "        if args['cuda']:\n",
        "            data, target = data.cuda(), target.cuda()\n",
        "        #Variables in Pytorch are differenciable. \n",
        "        data, target = Variable(data), Variable(target)\n",
        "        #This will zero out the gradients for this batch. \n",
        "        optimizer.zero_grad()\n",
        "        output = model(data)\n",
        "        # Calculate the loss The negative log likelihood loss. It is useful to train a classification problem with C classes.\n",
        "        loss_tensor = F.nll_loss(output, target, reduction='none')\n",
        "        loss = loss_tensor.mean()\n",
        "        #dloss/dx for every Variable\n",
        "        loss.backward()\n",
        "        #to do a one-step update on our parameter.\n",
        "        optimizer.step()\n",
        "\n",
        "        dataloader.dataset.loss_feedback(idx, loss_tensor.detach().numpy())\n",
        "        total_loss += loss_tensor.sum().item()\n",
        "        total_n += loss_tensor.shape[0]\n",
        "        #Print out the loss periodically. \n",
        "        if (batch_idx+1) % args['log_interval'] == 0:\n",
        "            print('Train Epoch: {} [{}/{} ({:.0f}%)]\\tLoss: {:.6f}'.format(\n",
        "                epoch, (batch_idx+1) * len(data), len(dataloader.dataset),\n",
        "                100. * (batch_idx+1) / len(dataloader), loss.item()))\n",
        "    total_loss /= total_n\n",
        "    # print(\"Train loss\", total_loss)\n",
        "    return total_loss\n",
        "\n",
        "def test(dataloader):\n",
        "    model.eval()\n",
        "    total_loss = 0\n",
        "    total_n = 0\n",
        "    correct = 0\n",
        "    with torch.no_grad():\n",
        "        for data, target in dataloader:\n",
        "            if args['cuda']:\n",
        "                data, target = data.cuda(), target.cuda()\n",
        "            data, target = Variable(data), Variable(target)\n",
        "            output = model(data)\n",
        "            loss_tensor = F.nll_loss(output, target, reduction='none')\n",
        "            total_loss += loss_tensor.sum().item()\n",
        "            total_n += loss_tensor.shape[0]\n",
        "            pred = output.data.max(1, keepdim=True)[1] # get the index of the max log-probability\n",
        "            correct += pred.eq(target.data.view_as(pred)).long().cpu().sum()\n",
        "\n",
        "    total_loss /= total_n\n",
        "    print('Average loss: {:.4f}, Accuracy: {}/{} ({:.2f}%)'.format(\n",
        "        total_loss, correct, len(dataloader.dataset),\n",
        "        100. * correct / len(dataloader.dataset)))\n",
        "    return total_loss, correct / len(dataloader.dataset)\n",
        "\n"
      ],
      "execution_count": 8,
      "outputs": [
        {
          "output_type": "stream",
          "text": [
            "\n"
          ],
          "name": "stdout"
        }
      ]
    },
    {
      "cell_type": "code",
      "metadata": {
        "id": "pTtB7ya1b0Ap",
        "outputId": "23654f49-4665-4471-b1b7-00dae70cde5e",
        "colab": {
          "base_uri": "https://localhost:8080/"
        }
      },
      "source": [
        "results = {'normal': {}, 'boosted': {}}\n",
        "model_for_cloning = Net()\n",
        "for boosting in [False, True]:\n",
        "    boosting_tag = 'normal' if not boosting else 'boosted'\n",
        "    train_loader = get_train_loader()\n",
        "    model = copy.deepcopy(model_for_cloning)\n",
        "    if args['cuda']:\n",
        "        model.cuda()\n",
        "\n",
        "    optimizer = optim.SGD(model.parameters(), lr=args['lr'], momentum=args['momentum'])\n",
        "\n",
        "    train_losses = []\n",
        "    test_losses = []\n",
        "    train_accs, test_accs = [], []\n",
        "    for epoch in range(1, args['epochs'] + 1):\n",
        "        print(\"Epoch\", epoch)\n",
        "        train_loss = train(epoch, train_loader, boosting=boosting and epoch > 1)\n",
        "        \n",
        "        train_loss, train_acc = test(train_loader_for_testing)\n",
        "        train_losses.append(train_loss)\n",
        "        train_accs.append(train_acc)\n",
        "\n",
        "        test_loss, test_acc = test(test_loader)\n",
        "        test_losses.append(test_loss)\n",
        "        test_accs.append(test_acc)\n",
        "\n",
        "    results[boosting_tag]['dataloader'] = train_loader\n",
        "    results[boosting_tag]['train_losses'] = train_losses\n",
        "    results[boosting_tag]['test_losses'] = test_losses\n",
        "    results[boosting_tag]['train_accs'] = train_accs\n",
        "    results[boosting_tag]['test_accs'] = test_accs"
      ],
      "execution_count": 9,
      "outputs": [
        {
          "output_type": "stream",
          "text": [
            "Epoch 1\n",
            "\n",
            "\n",
            "Average loss: 2.1972, Accuracy: 19454/60000 (32.42%)\n",
            "Average loss: 2.1954, Accuracy: 3230/10000 (32.30%)\n",
            "Epoch 2\n",
            "Average loss: 1.5847, Accuracy: 44351/60000 (73.92%)\n",
            "Average loss: 1.5725, Accuracy: 7469/10000 (74.69%)\n",
            "Epoch 3\n",
            "Average loss: 0.8004, Accuracy: 49957/60000 (83.26%)\n",
            "Average loss: 0.7792, Accuracy: 8400/10000 (84.00%)\n",
            "Epoch 4\n",
            "Average loss: 0.5354, Accuracy: 52043/60000 (86.74%)\n",
            "Average loss: 0.5151, Accuracy: 8741/10000 (87.41%)\n",
            "Epoch 5\n",
            "Average loss: 0.4189, Accuracy: 53421/60000 (89.04%)\n",
            "Average loss: 0.3982, Accuracy: 8993/10000 (89.93%)\n",
            "Epoch 6\n",
            "Average loss: 0.3586, Accuracy: 54065/60000 (90.11%)\n",
            "Average loss: 0.3381, Accuracy: 9094/10000 (90.94%)\n",
            "Epoch 7\n",
            "Average loss: 0.3165, Accuracy: 54731/60000 (91.22%)\n",
            "Average loss: 0.2962, Accuracy: 9194/10000 (91.94%)\n",
            "Epoch 8\n",
            "Average loss: 0.2888, Accuracy: 55140/60000 (91.90%)\n",
            "Average loss: 0.2682, Accuracy: 9273/10000 (92.73%)\n",
            "Epoch 9\n",
            "Average loss: 0.2696, Accuracy: 55379/60000 (92.30%)\n",
            "Average loss: 0.2501, Accuracy: 9295/10000 (92.95%)\n",
            "Epoch 10\n",
            "Average loss: 0.2499, Accuracy: 55728/60000 (92.88%)\n",
            "Average loss: 0.2309, Accuracy: 9357/10000 (93.57%)\n",
            "Epoch 11\n",
            "Average loss: 0.2368, Accuracy: 55916/60000 (93.19%)\n",
            "Average loss: 0.2187, Accuracy: 9360/10000 (93.60%)\n",
            "Epoch 12\n",
            "Average loss: 0.2230, Accuracy: 56129/60000 (93.55%)\n",
            "Average loss: 0.2055, Accuracy: 9394/10000 (93.94%)\n",
            "Epoch 13\n",
            "Average loss: 0.2112, Accuracy: 56284/60000 (93.81%)\n",
            "Average loss: 0.1942, Accuracy: 9409/10000 (94.09%)\n",
            "Epoch 14\n",
            "Average loss: 0.2017, Accuracy: 56442/60000 (94.07%)\n",
            "Average loss: 0.1851, Accuracy: 9436/10000 (94.36%)\n",
            "Epoch 15\n",
            "Average loss: 0.1961, Accuracy: 56522/60000 (94.20%)\n",
            "Average loss: 0.1798, Accuracy: 9453/10000 (94.53%)\n",
            "Epoch 16\n",
            "Average loss: 0.1870, Accuracy: 56658/60000 (94.43%)\n",
            "Average loss: 0.1716, Accuracy: 9482/10000 (94.82%)\n",
            "Epoch 17\n",
            "Average loss: 0.1806, Accuracy: 56751/60000 (94.58%)\n",
            "Average loss: 0.1655, Accuracy: 9496/10000 (94.96%)\n",
            "Epoch 18\n",
            "Average loss: 0.1761, Accuracy: 56848/60000 (94.75%)\n",
            "Average loss: 0.1599, Accuracy: 9504/10000 (95.04%)\n",
            "Epoch 19\n",
            "Average loss: 0.1679, Accuracy: 57009/60000 (95.01%)\n",
            "Average loss: 0.1529, Accuracy: 9528/10000 (95.28%)\n",
            "Epoch 20\n",
            "Average loss: 0.1614, Accuracy: 57097/60000 (95.16%)\n",
            "Average loss: 0.1465, Accuracy: 9555/10000 (95.55%)\n",
            "Epoch 21\n",
            "Average loss: 0.1561, Accuracy: 57223/60000 (95.37%)\n",
            "Average loss: 0.1422, Accuracy: 9559/10000 (95.59%)\n",
            "Epoch 22\n",
            "Average loss: 0.1526, Accuracy: 57254/60000 (95.42%)\n",
            "Average loss: 0.1395, Accuracy: 9551/10000 (95.51%)\n",
            "Epoch 23\n",
            "Average loss: 0.1509, Accuracy: 57290/60000 (95.48%)\n",
            "Average loss: 0.1377, Accuracy: 9564/10000 (95.64%)\n",
            "Epoch 24\n",
            "Average loss: 0.1456, Accuracy: 57374/60000 (95.62%)\n",
            "Average loss: 0.1318, Accuracy: 9580/10000 (95.80%)\n",
            "Epoch 25\n",
            "Average loss: 0.1428, Accuracy: 57424/60000 (95.71%)\n",
            "Average loss: 0.1287, Accuracy: 9589/10000 (95.89%)\n",
            "Epoch 26\n",
            "Average loss: 0.1382, Accuracy: 57497/60000 (95.83%)\n",
            "Average loss: 0.1247, Accuracy: 9612/10000 (96.12%)\n",
            "Epoch 27\n",
            "Average loss: 0.1356, Accuracy: 57541/60000 (95.90%)\n",
            "Average loss: 0.1229, Accuracy: 9616/10000 (96.16%)\n",
            "Epoch 28\n",
            "Average loss: 0.1312, Accuracy: 57621/60000 (96.04%)\n",
            "Average loss: 0.1184, Accuracy: 9615/10000 (96.15%)\n",
            "Epoch 29\n",
            "Average loss: 0.1300, Accuracy: 57680/60000 (96.13%)\n",
            "Average loss: 0.1178, Accuracy: 9638/10000 (96.38%)\n",
            "Epoch 30\n",
            "Average loss: 0.1263, Accuracy: 57717/60000 (96.19%)\n",
            "Average loss: 0.1141, Accuracy: 9635/10000 (96.35%)\n",
            "Epoch 31\n",
            "Average loss: 0.1237, Accuracy: 57777/60000 (96.29%)\n",
            "Average loss: 0.1106, Accuracy: 9657/10000 (96.57%)\n",
            "Epoch 32\n",
            "Average loss: 0.1213, Accuracy: 57827/60000 (96.38%)\n",
            "Average loss: 0.1086, Accuracy: 9665/10000 (96.65%)\n",
            "Epoch 33\n",
            "Average loss: 0.1187, Accuracy: 57855/60000 (96.43%)\n",
            "Average loss: 0.1065, Accuracy: 9669/10000 (96.69%)\n",
            "Epoch 34\n",
            "Average loss: 0.1173, Accuracy: 57880/60000 (96.47%)\n",
            "Average loss: 0.1054, Accuracy: 9668/10000 (96.68%)\n",
            "Epoch 35\n",
            "Average loss: 0.1145, Accuracy: 57956/60000 (96.59%)\n",
            "Average loss: 0.1029, Accuracy: 9672/10000 (96.72%)\n",
            "Epoch 36\n",
            "Average loss: 0.1137, Accuracy: 57983/60000 (96.64%)\n",
            "Average loss: 0.1019, Accuracy: 9676/10000 (96.76%)\n",
            "Epoch 37\n",
            "Average loss: 0.1112, Accuracy: 58008/60000 (96.68%)\n",
            "Average loss: 0.1002, Accuracy: 9680/10000 (96.80%)\n",
            "Epoch 38\n",
            "Average loss: 0.1099, Accuracy: 58058/60000 (96.76%)\n",
            "Average loss: 0.0986, Accuracy: 9694/10000 (96.94%)\n",
            "Epoch 39\n",
            "Average loss: 0.1072, Accuracy: 58080/60000 (96.80%)\n",
            "Average loss: 0.0963, Accuracy: 9692/10000 (96.92%)\n",
            "Epoch 40\n",
            "Average loss: 0.1068, Accuracy: 58089/60000 (96.82%)\n",
            "Average loss: 0.0959, Accuracy: 9691/10000 (96.91%)\n",
            "Epoch 41\n",
            "Average loss: 0.1049, Accuracy: 58111/60000 (96.85%)\n",
            "Average loss: 0.0940, Accuracy: 9694/10000 (96.94%)\n",
            "Epoch 42\n",
            "Average loss: 0.1038, Accuracy: 58145/60000 (96.91%)\n",
            "Average loss: 0.0930, Accuracy: 9701/10000 (97.01%)\n",
            "Epoch 43\n",
            "Average loss: 0.1028, Accuracy: 58175/60000 (96.96%)\n",
            "Average loss: 0.0923, Accuracy: 9714/10000 (97.14%)\n",
            "Epoch 44\n",
            "Average loss: 0.1020, Accuracy: 58196/60000 (96.99%)\n",
            "Average loss: 0.0920, Accuracy: 9702/10000 (97.02%)\n",
            "Epoch 45\n",
            "Average loss: 0.0999, Accuracy: 58198/60000 (97.00%)\n",
            "Average loss: 0.0891, Accuracy: 9722/10000 (97.22%)\n",
            "Epoch 46\n",
            "Average loss: 0.0981, Accuracy: 58247/60000 (97.08%)\n",
            "Average loss: 0.0874, Accuracy: 9726/10000 (97.26%)\n",
            "Epoch 47\n",
            "Average loss: 0.0981, Accuracy: 58260/60000 (97.10%)\n",
            "Average loss: 0.0874, Accuracy: 9723/10000 (97.23%)\n",
            "Epoch 48\n",
            "Average loss: 0.0963, Accuracy: 58280/60000 (97.13%)\n",
            "Average loss: 0.0855, Accuracy: 9734/10000 (97.34%)\n",
            "Epoch 49\n",
            "Average loss: 0.0950, Accuracy: 58302/60000 (97.17%)\n",
            "Average loss: 0.0845, Accuracy: 9737/10000 (97.37%)\n",
            "Epoch 50\n",
            "Average loss: 0.0938, Accuracy: 58327/60000 (97.21%)\n",
            "Average loss: 0.0835, Accuracy: 9735/10000 (97.35%)\n",
            "Epoch 1\n",
            "Average loss: 2.1988, Accuracy: 19430/60000 (32.38%)\n",
            "Average loss: 2.1971, Accuracy: 3204/10000 (32.04%)\n",
            "Epoch 2\n",
            "Average loss: 1.8292, Accuracy: 40395/60000 (67.32%)\n",
            "Average loss: 1.8182, Accuracy: 6825/10000 (68.25%)\n",
            "Epoch 3\n",
            "Average loss: 1.1876, Accuracy: 50261/60000 (83.77%)\n",
            "Average loss: 1.1698, Accuracy: 8427/10000 (84.27%)\n",
            "Epoch 4\n",
            "Average loss: 0.9326, Accuracy: 53735/60000 (89.56%)\n",
            "Average loss: 0.9114, Accuracy: 9039/10000 (90.39%)\n",
            "Epoch 5\n",
            "Average loss: 0.8874, Accuracy: 55144/60000 (91.91%)\n",
            "Average loss: 0.8676, Accuracy: 9253/10000 (92.53%)\n",
            "Epoch 6\n",
            "Average loss: 0.7862, Accuracy: 56094/60000 (93.49%)\n",
            "Average loss: 0.7670, Accuracy: 9383/10000 (93.83%)\n",
            "Epoch 7\n",
            "Average loss: 0.7333, Accuracy: 56551/60000 (94.25%)\n",
            "Average loss: 0.7164, Accuracy: 9455/10000 (94.55%)\n",
            "Epoch 8\n",
            "Average loss: 0.6652, Accuracy: 56791/60000 (94.65%)\n",
            "Average loss: 0.6510, Accuracy: 9486/10000 (94.86%)\n",
            "Epoch 9\n",
            "Average loss: 0.5954, Accuracy: 57261/60000 (95.43%)\n",
            "Average loss: 0.5814, Accuracy: 9554/10000 (95.54%)\n",
            "Epoch 10\n",
            "Average loss: 0.5751, Accuracy: 57472/60000 (95.79%)\n",
            "Average loss: 0.5618, Accuracy: 9572/10000 (95.72%)\n",
            "Epoch 11\n",
            "Average loss: 0.5102, Accuracy: 57667/60000 (96.11%)\n",
            "Average loss: 0.4992, Accuracy: 9615/10000 (96.15%)\n",
            "Epoch 12\n",
            "Average loss: 0.4801, Accuracy: 57935/60000 (96.56%)\n",
            "Average loss: 0.4690, Accuracy: 9657/10000 (96.57%)\n",
            "Epoch 13\n",
            "Average loss: 0.4362, Accuracy: 57856/60000 (96.43%)\n",
            "Average loss: 0.4256, Accuracy: 9654/10000 (96.54%)\n",
            "Epoch 14\n",
            "Average loss: 0.4221, Accuracy: 58093/60000 (96.82%)\n",
            "Average loss: 0.4133, Accuracy: 9685/10000 (96.85%)\n",
            "Epoch 15\n",
            "Average loss: 0.4062, Accuracy: 58275/60000 (97.12%)\n",
            "Average loss: 0.3970, Accuracy: 9721/10000 (97.21%)\n",
            "Epoch 16\n",
            "Average loss: 0.3668, Accuracy: 58485/60000 (97.47%)\n",
            "Average loss: 0.3582, Accuracy: 9752/10000 (97.52%)\n",
            "Epoch 17\n",
            "Average loss: 0.3717, Accuracy: 58461/60000 (97.43%)\n",
            "Average loss: 0.3639, Accuracy: 9734/10000 (97.34%)\n",
            "Epoch 18\n",
            "Average loss: 0.3450, Accuracy: 58617/60000 (97.69%)\n",
            "Average loss: 0.3370, Accuracy: 9776/10000 (97.76%)\n",
            "Epoch 19\n",
            "Average loss: 0.3287, Accuracy: 58597/60000 (97.66%)\n",
            "Average loss: 0.3213, Accuracy: 9747/10000 (97.47%)\n",
            "Epoch 20\n",
            "Average loss: 0.3070, Accuracy: 58677/60000 (97.79%)\n",
            "Average loss: 0.2996, Accuracy: 9785/10000 (97.85%)\n",
            "Epoch 21\n",
            "Average loss: 0.3096, Accuracy: 58744/60000 (97.91%)\n",
            "Average loss: 0.3037, Accuracy: 9797/10000 (97.97%)\n",
            "Epoch 22\n",
            "Average loss: 0.2811, Accuracy: 58774/60000 (97.96%)\n",
            "Average loss: 0.2749, Accuracy: 9777/10000 (97.77%)\n",
            "Epoch 23\n",
            "Average loss: 0.2641, Accuracy: 58870/60000 (98.12%)\n",
            "Average loss: 0.2596, Accuracy: 9801/10000 (98.01%)\n",
            "Epoch 24\n",
            "Average loss: 0.2561, Accuracy: 58936/60000 (98.23%)\n",
            "Average loss: 0.2526, Accuracy: 9808/10000 (98.08%)\n",
            "Epoch 25\n",
            "Average loss: 0.2390, Accuracy: 58970/60000 (98.28%)\n",
            "Average loss: 0.2347, Accuracy: 9810/10000 (98.10%)\n",
            "Epoch 26\n",
            "Average loss: 0.2307, Accuracy: 58962/60000 (98.27%)\n",
            "Average loss: 0.2267, Accuracy: 9825/10000 (98.25%)\n",
            "Epoch 27\n",
            "Average loss: 0.2241, Accuracy: 59022/60000 (98.37%)\n",
            "Average loss: 0.2196, Accuracy: 9817/10000 (98.17%)\n",
            "Epoch 28\n",
            "Average loss: 0.2176, Accuracy: 59100/60000 (98.50%)\n",
            "Average loss: 0.2135, Accuracy: 9838/10000 (98.38%)\n",
            "Epoch 29\n",
            "Average loss: 0.2114, Accuracy: 59135/60000 (98.56%)\n",
            "Average loss: 0.2075, Accuracy: 9835/10000 (98.35%)\n",
            "Epoch 30\n",
            "Average loss: 0.2042, Accuracy: 59129/60000 (98.55%)\n",
            "Average loss: 0.2019, Accuracy: 9836/10000 (98.36%)\n",
            "Epoch 31\n",
            "Average loss: 0.2022, Accuracy: 59151/60000 (98.58%)\n",
            "Average loss: 0.1999, Accuracy: 9829/10000 (98.29%)\n",
            "Epoch 32\n",
            "Average loss: 0.1949, Accuracy: 59166/60000 (98.61%)\n",
            "Average loss: 0.1932, Accuracy: 9835/10000 (98.35%)\n",
            "Epoch 33\n",
            "Average loss: 0.1910, Accuracy: 59196/60000 (98.66%)\n",
            "Average loss: 0.1898, Accuracy: 9844/10000 (98.44%)\n",
            "Epoch 34\n",
            "Average loss: 0.1838, Accuracy: 59229/60000 (98.71%)\n",
            "Average loss: 0.1827, Accuracy: 9846/10000 (98.46%)\n",
            "Epoch 35\n",
            "Average loss: 0.1692, Accuracy: 59225/60000 (98.71%)\n",
            "Average loss: 0.1694, Accuracy: 9844/10000 (98.44%)\n",
            "Epoch 36\n",
            "Average loss: 0.1621, Accuracy: 59304/60000 (98.84%)\n",
            "Average loss: 0.1628, Accuracy: 9849/10000 (98.49%)\n",
            "Epoch 37\n",
            "Average loss: 0.1646, Accuracy: 59297/60000 (98.83%)\n",
            "Average loss: 0.1652, Accuracy: 9848/10000 (98.48%)\n",
            "Epoch 38\n",
            "Average loss: 0.1518, Accuracy: 59334/60000 (98.89%)\n",
            "Average loss: 0.1531, Accuracy: 9852/10000 (98.52%)\n",
            "Epoch 39\n",
            "Average loss: 0.1530, Accuracy: 59327/60000 (98.88%)\n",
            "Average loss: 0.1530, Accuracy: 9857/10000 (98.57%)\n",
            "Epoch 40\n",
            "Average loss: 0.1490, Accuracy: 59344/60000 (98.91%)\n",
            "Average loss: 0.1497, Accuracy: 9852/10000 (98.52%)\n",
            "Epoch 41\n",
            "Average loss: 0.1486, Accuracy: 59357/60000 (98.93%)\n",
            "Average loss: 0.1503, Accuracy: 9851/10000 (98.51%)\n",
            "Epoch 42\n",
            "Average loss: 0.1385, Accuracy: 59403/60000 (99.00%)\n",
            "Average loss: 0.1409, Accuracy: 9853/10000 (98.53%)\n",
            "Epoch 43\n",
            "Average loss: 0.1369, Accuracy: 59425/60000 (99.04%)\n",
            "Average loss: 0.1381, Accuracy: 9859/10000 (98.59%)\n",
            "Epoch 44\n",
            "Average loss: 0.1262, Accuracy: 59455/60000 (99.09%)\n",
            "Average loss: 0.1289, Accuracy: 9863/10000 (98.63%)\n",
            "Epoch 45\n",
            "Average loss: 0.1279, Accuracy: 59444/60000 (99.07%)\n",
            "Average loss: 0.1313, Accuracy: 9860/10000 (98.60%)\n",
            "Epoch 46\n",
            "Average loss: 0.1224, Accuracy: 59489/60000 (99.15%)\n",
            "Average loss: 0.1268, Accuracy: 9861/10000 (98.61%)\n",
            "Epoch 47\n",
            "Average loss: 0.1109, Accuracy: 59494/60000 (99.16%)\n",
            "Average loss: 0.1155, Accuracy: 9859/10000 (98.59%)\n",
            "Epoch 48\n",
            "Average loss: 0.1149, Accuracy: 59512/60000 (99.19%)\n",
            "Average loss: 0.1190, Accuracy: 9863/10000 (98.63%)\n",
            "Epoch 49\n",
            "Average loss: 0.1120, Accuracy: 59490/60000 (99.15%)\n",
            "Average loss: 0.1159, Accuracy: 9859/10000 (98.59%)\n",
            "Epoch 50\n",
            "Average loss: 0.1098, Accuracy: 59488/60000 (99.15%)\n",
            "Average loss: 0.1144, Accuracy: 9858/10000 (98.58%)\n"
          ],
          "name": "stdout"
        }
      ]
    },
    {
      "cell_type": "code",
      "metadata": {
        "id": "0VvZYXN43sBo",
        "outputId": "5feb8a5d-0852-4211-ec90-03868e153142",
        "colab": {
          "base_uri": "https://localhost:8080/",
          "height": 281
        }
      },
      "source": [
        "plt.title(\"Loss\")\n",
        "plt.plot(results['normal'][\"train_losses\"], 'b-', label=\"Normal train\")\n",
        "plt.plot(results['normal'][\"test_losses\"], \"b--\", label=\"Normal test\")\n",
        "plt.plot(results['boosted'][\"train_losses\"], 'g-', label=\"Boosted train\")\n",
        "plt.plot(results['boosted'][\"test_losses\"], \"g--\", label=\"Boosted test\")\n",
        "plt.yscale('log')\n",
        "plt.legend()\n",
        "plt.show()"
      ],
      "execution_count": 10,
      "outputs": [
        {
          "output_type": "display_data",
          "data": {
            "image/png": "[encoded data removed]",
            "text/plain": [
              "<Figure size 432x288 with 1 Axes>"
            ]
          },
          "metadata": {
            "tags": [],
            "needs_background": "light"
          }
        }
      ]
    },
    {
      "cell_type": "code",
      "metadata": {
        "id": "WdRfFMAl3sfv",
        "outputId": "bbd22027-8471-4b56-9c0b-df4c7bae5c89",
        "colab": {
          "base_uri": "https://localhost:8080/",
          "height": 281
        }
      },
      "source": [
        "plt.title(\"Accuracy\")\n",
        "start = 3\n",
        "plt.plot(results['normal'][\"train_accs\"][start:], 'b-', label=\"Normal train\")\n",
        "plt.plot(results['normal'][\"test_accs\"][start:], \"b--\", label=\"Normal test\")\n",
        "plt.plot(results['boosted'][\"train_accs\"][start:], 'g-', label=\"Boosted train\")\n",
        "plt.plot(results['boosted'][\"test_accs\"][start:], \"g--\", label=\"Boosted test\")\n",
        "plt.yscale('log')\n",
        "plt.legend()\n",
        "plt.show()"
      ],
      "execution_count": 14,
      "outputs": [
        {
          "output_type": "display_data",
          "data": {
            "image/png": "[encoded data removed]",
            "text/plain": [
              "<Figure size 432x288 with 1 Axes>"
            ]
          },
          "metadata": {
            "tags": [],
            "needs_background": "light"
          }
        }
      ]
    },
    {
      "cell_type": "code",
      "metadata": {
        "id": "G1ushiZi3siu",
        "outputId": "13b6a79b-e973-43e9-b19a-904648a36432",
        "colab": {
          "base_uri": "https://localhost:8080/",
          "height": 365
        }
      },
      "source": [
        "plt.hist(results['boosted']['dataloader'].dataset.n_used)"
      ],
      "execution_count": 12,
      "outputs": [
        {
          "output_type": "execute_result",
          "data": {
            "text/plain": [
              "(array([5.8141e+04, 8.1300e+02, 3.8600e+02, 2.0200e+02, 1.4200e+02,\n",
              "        1.2000e+02, 6.2000e+01, 5.7000e+01, 4.5000e+01, 3.2000e+01]),\n",
              " array([2.0000e+00, 2.8710e+02, 5.7220e+02, 8.5730e+02, 1.1424e+03,\n",
              "        1.4275e+03, 1.7126e+03, 1.9977e+03, 2.2828e+03, 2.5679e+03,\n",
              "        2.8530e+03]),\n",
              " <a list of 10 Patch objects>)"
            ]
          },
          "metadata": {
            "tags": []
          },
          "execution_count": 12
        },
        {
          "output_type": "display_data",
          "data": {
            "image/png": "[encoded data removed]",
            "text/plain": [
              "<Figure size 432x288 with 1 Axes>"
            ]
          },
          "metadata": {
            "tags": [],
            "needs_background": "light"
          }
        }
      ]
    },
    {
      "cell_type": "code",
      "metadata": {
        "id": "WblJ5jRe3scu",
        "outputId": "f28eec32-a75c-4d8c-d4bd-7ff8fe1c21b9",
        "colab": {
          "base_uri": "https://localhost:8080/",
          "height": 397
        }
      },
      "source": [
        "plt.boxplot(results['boosted']['dataloader'].dataset.n_used)"
      ],
      "execution_count": 13,
      "outputs": [
        {
          "output_type": "execute_result",
          "data": {
            "text/plain": [
              "{'boxes': [<matplotlib.lines.Line2D at 0x7f847f16f320>],\n",
              " 'caps': [<matplotlib.lines.Line2D at 0x7f847f16fd30>,\n",
              "  <matplotlib.lines.Line2D at 0x7f847f17a0f0>],\n",
              " 'fliers': [<matplotlib.lines.Line2D at 0x7f847f17a7f0>],\n",
              " 'means': [],\n",
              " 'medians': [<matplotlib.lines.Line2D at 0x7f847f17a470>],\n",
              " 'whiskers': [<matplotlib.lines.Line2D at 0x7f847f16f630>,\n",
              "  <matplotlib.lines.Line2D at 0x7f847f16f9b0>]}"
            ]
          },
          "metadata": {
            "tags": []
          },
          "execution_count": 13
        },
        {
          "output_type": "display_data",
          "data": {
            "image/png": "[encoded data removed]",
            "text/plain": [
              "<Figure size 432x288 with 1 Axes>"
            ]
          },
          "metadata": {
            "tags": [],
            "needs_background": "light"
          }
        }
      ]
    },
    {
      "cell_type": "code",
      "metadata": {
        "id": "ni0D3KR3BRFc"
      },
      "source": [
        ""
      ],
      "execution_count": 13,
      "outputs": []
    }
  ]
}